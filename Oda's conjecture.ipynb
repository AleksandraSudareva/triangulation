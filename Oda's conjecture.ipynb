{
 "cells": [
  {
   "cell_type": "code",
   "execution_count": 63,
   "metadata": {},
   "outputs": [],
   "source": [
    "import numpy as np\n",
    "import matplotlib\n",
    "import json"
   ]
  },
  {
   "cell_type": "code",
   "execution_count": 6,
   "metadata": {},
   "outputs": [],
   "source": [
    "def MakeMatrix(i, j):\n",
    "    if(i > 2) or (j > 2) return\n",
    "    matrix = np.eye(3)\n",
    "    matrix[i][j] = 1\n",
    "    return matrix"
   ]
  },
  {
   "cell_type": "code",
   "execution_count": 32,
   "metadata": {},
   "outputs": [],
   "source": [
    "# v * M\n",
    "def MakeRotationMatrix(i, j, k):\n",
    "    M = np.zeros(3)\n",
    "    M[0][2] = 1\n",
    "    M[1][0] = 1\n",
    "    M[2][1] = 1"
   ]
  },
  {
   "cell_type": "code",
   "execution_count": 50,
   "metadata": {},
   "outputs": [],
   "source": [
    "def CheckIfRotation(M):\n",
    "    if M[0][0] == 0:\n",
    "        return True\n",
    "    return False"
   ]
  },
  {
   "cell_type": "code",
   "execution_count": 34,
   "metadata": {},
   "outputs": [],
   "source": [
    "def ReturnMatrixDef(M):\n",
    "    i, j = GetIndices(M)\n",
    "    if M[i][j] == 1:\n",
    "        return i, j, 1\n",
    "    else:\n",
    "        return i, j, -1"
   ]
  },
  {
   "cell_type": "code",
   "execution_count": 20,
   "metadata": {},
   "outputs": [],
   "source": [
    "def GetIndices(M):\n",
    "    for i in range(3):\n",
    "        for j in range(3):\n",
    "            if i != j and M[i][j] != 0:\n",
    "                return i, j"
   ]
  },
  {
   "cell_type": "code",
   "execution_count": 16,
   "metadata": {},
   "outputs": [],
   "source": [
    "def MissingIndex(i, j) :\n",
    "    for k in range(3):\n",
    "        if i == k or j == k:\n",
    "            continue\n",
    "        return k"
   ]
  },
  {
   "cell_type": "code",
   "execution_count": 136,
   "metadata": {},
   "outputs": [],
   "source": [
    "def DoRule2(M1, M2):\n",
    "    return []"
   ]
  },
  {
   "cell_type": "code",
   "execution_count": 59,
   "metadata": {},
   "outputs": [],
   "source": [
    "def DoRule3(M1, M2):\n",
    "    return [M2, M1]"
   ]
  },
  {
   "cell_type": "code",
   "execution_count": 23,
   "metadata": {},
   "outputs": [],
   "source": [
    "def DoRule4(M1, M2):\n",
    "    i1, j1 = GetIndices(M1)\n",
    "    i2, j2 = GetIndices(M2)\n",
    "    return [M2, np.linalg.inv(MakeMatrix(i1, j2)), M1]"
   ]
  },
  {
   "cell_type": "code",
   "execution_count": 28,
   "metadata": {},
   "outputs": [],
   "source": [
    "def DoRule5(M1, M2):\n",
    "    i1, j1 = GetIndices(M1)\n",
    "    i2, j2 = GetIndices(M2)\n",
    "    return [M2, MakeMatrix(i2, j1), M1]"
   ]
  },
  {
   "cell_type": "code",
   "execution_count": 29,
   "metadata": {},
   "outputs": [],
   "source": [
    "def DoRule6a(M1, M2):\n",
    "    return [M2, M1]"
   ]
  },
  {
   "cell_type": "code",
   "execution_count": 30,
   "metadata": {},
   "outputs": [],
   "source": [
    "def DoRule6b(M1, M2):\n",
    "    i1, j1 = GetIndices(M1)\n",
    "    i2, j2 = GetIndices(M2)\n",
    "    R = MakeRotationMatrix()\n",
    "    return [MakeMatrix(j2, i2), MakeMatrix(j1, j2), R, np.linalg.inv(MakeMatrix(j2, j1)), np.linalg.inv(MakeMatrix(j1, i1))]"
   ]
  },
  {
   "cell_type": "code",
   "execution_count": 27,
   "metadata": {},
   "outputs": [],
   "source": [
    "def DoRule7(R, M):\n",
    "    i, j, ind = ReturnMatrixDef(M)\n",
    "    newM = MakeMatrix((i + 1) % 3, (j + 1) % 3)\n",
    "    if (ind == -1):\n",
    "        newM = np.linalg.inv(newM)\n",
    "    return [newM, R]"
   ]
  },
  {
   "cell_type": "code",
   "execution_count": 31,
   "metadata": {},
   "outputs": [],
   "source": [
    "def DoRule8(M1, M2):\n",
    "    return [M2, M1]"
   ]
  },
  {
   "cell_type": "code",
   "execution_count": 55,
   "metadata": {},
   "outputs": [],
   "source": [
    "def CheckSequence(matrices):\n",
    "    inverse = False\n",
    "    for i in range(len(matrices)):\n",
    "        if (inverse == False) and (ReturnMatrixDef(matrices[i])[2] == 1):\n",
    "            continue\n",
    "        if (inverse == True) and (ReturnMatrixDef(matrices[i])[2] == -1):\n",
    "            continue\n",
    "        if (inverse == False) and (ReturnMatrixDef(matrices[i])[2] == -1):\n",
    "            inverse = True\n",
    "            continue\n",
    "        return False\n",
    "    return True"
   ]
  },
  {
   "cell_type": "code",
   "execution_count": 138,
   "metadata": {},
   "outputs": [],
   "source": [
    "def AlgoA(matrices):\n",
    "    stop = False\n",
    "    changes = True\n",
    "    newSeq = []\n",
    "    while stop == False and changes == True and len(matrices) > 0 :\n",
    "        changes = False\n",
    "        changesInd = -1;\n",
    "        for m in range(len(matrices) - 1):\n",
    "            i1, j1 = GetIndices(matrices[m])\n",
    "            i2, j2 = GetIndices(matrices[m + 1])\n",
    "            if i1 == j2 and j1 == i2 and ReturnMatrixDef(matrices[m])[2] == -1 and ReturnMatrixDef(matrices[m + 1])[2] == 1:\n",
    "#                 print(1)\n",
    "                stop = true\n",
    "                break\n",
    "            elif i1 == i2 and j1 == j2 and ReturnMatrixDef(matrices[m])[2] == -1 and ReturnMatrixDef(matrices[m + 1])[2] == 1:\n",
    "#                 print(2)\n",
    "                newSeq = DoRule2(matrices[m], matrices[m + 1])\n",
    "                changes = True\n",
    "                changesInd = m\n",
    "                break\n",
    "            elif j1 == j2 and i2 == MissingIndex(i1, j1) and ReturnMatrixDef(matrices[m])[2] == -1 and ReturnMatrixDef(matrices[m + 1])[2] == 1:\n",
    "#                 print(3)\n",
    "                newSeq = DoRule3(matrices[m], matrices[m + 1])\n",
    "                changes = True\n",
    "                changesInd = m\n",
    "                break\n",
    "            elif j1 == i2 and j2 == MissingIndex(i1, j1) and ReturnMatrixDef(matrices[m])[2] == -1 and ReturnMatrixDef(matrices[m + 1])[2] == 1:\n",
    "#                 print(4)\n",
    "                newSeq = DoRule4(matrices[m], matrices[m + 1])\n",
    "                changes = True\n",
    "                changesInd = m\n",
    "                break\n",
    "            elif i1 == j2 and i1 == MissingIndex(i1, j1) and ReturnMatrixDef(matrices[m])[2] == -1 and ReturnMatrixDef(matrices[m + 1])[2] == 1:\n",
    "#                 print(5)\n",
    "                newSeq = DoRule5(matrices[m], matrices[m + 1])\n",
    "                changes = True\n",
    "                changesInd = m\n",
    "                break\n",
    "            # Rule 6a\n",
    "            elif i1 == i2 and j2 == MissingIndex(i1, j1) and ReturnMatrixDef(matrices[m])[2] == -1 and ReturnMatrixDef(matrices[m + 1])[2] == 1:\n",
    "#                 print(6)\n",
    "                newSeq = DoRule6a(matrices[m], matrices[m + 1])\n",
    "                changes = True\n",
    "                changesInd = m\n",
    "                break\n",
    "            elif CheckIfRotation(matrices[m]):\n",
    "#                 print(7)\n",
    "                newSeq = DoRule7(matrices[m], matrices[m + 1])\n",
    "                changes = True\n",
    "                changesInd = m\n",
    "                break\n",
    "                #\n",
    "        if changes:\n",
    "            lst1 = []\n",
    "            if(changesInd > 0):\n",
    "                lst1 = matrices[:changesInd]\n",
    "            lst2 = []\n",
    "            if (changesInd < len(matrices) - 2):\n",
    "                lst2 = matrices[changesInd + 2:]\n",
    "            matrices = lst1 + newSeq + lst2\n",
    "            #\n",
    "    return CheckSequence(matrices)"
   ]
  },
  {
   "cell_type": "code",
   "execution_count": 89,
   "metadata": {},
   "outputs": [],
   "source": [
    "with open('data_left.json', 'r') as inputfile:\n",
    "    left = json.load(inputfile)\n",
    "#     triangle = left['triangle']\n",
    "#     vertexes = left['vertexes']\n",
    "#     edges = left['edges']\n",
    "#     faces = left['faces']"
   ]
  },
  {
   "cell_type": "code",
   "execution_count": 90,
   "metadata": {},
   "outputs": [],
   "source": [
    "with open('data_right.json', 'r') as inputfile:\n",
    "    right = json.load(inputfile)\n",
    "#     triangle = right['triangle']\n",
    "#     vertexes = right['vertexes']\n",
    "#     edges = right['edges']\n",
    "#     faces = right['faces']"
   ]
  },
  {
   "cell_type": "code",
   "execution_count": 84,
   "metadata": {},
   "outputs": [
    {
     "data": {
      "text/plain": [
       "{'ind': 1, 'origin': 3, 'twin': 0, 'next': 5, 'face': 0}"
      ]
     },
     "execution_count": 84,
     "metadata": {},
     "output_type": "execute_result"
    }
   ],
   "source": [
    "edges[i]"
   ]
  },
  {
   "cell_type": "code",
   "execution_count": 115,
   "metadata": {},
   "outputs": [],
   "source": [
    "def DataToSeq(left, right):\n",
    "    len1 = len(left['vertexes']) - 3\n",
    "    len2 = len(right['vertexes']) - 3\n",
    "    origin1 = left['edges'][8]['origin']\n",
    "    origin2 = right['edges'][8]['origin']\n",
    "    s = set()\n",
    "    s.add(0)\n",
    "    s.add(1)\n",
    "    s.add(2)\n",
    "    s.remove(origin1)\n",
    "    ind1 = list(s)\n",
    "#     print(ind1)\n",
    "    s.add(origin1)\n",
    "    s.remove(origin2)\n",
    "    ind2 = list(s)\n",
    "#     print(ind2)\n",
    "    M1 = MakeMatrix(ind1[0], ind1[1])\n",
    "    M2 = MakeMatrix(ind2[0], ind2[1])\n",
    "    seq = []\n",
    "    for i in range(len1):\n",
    "        seq.append(np.linalg.inv(M1))\n",
    "    for i in range(len2):\n",
    "        seq.append(M2)\n",
    "    return seq"
   ]
  },
  {
   "cell_type": "code",
   "execution_count": 139,
   "metadata": {},
   "outputs": [
    {
     "data": {
      "text/plain": [
       "True"
      ]
     },
     "execution_count": 139,
     "metadata": {},
     "output_type": "execute_result"
    }
   ],
   "source": [
    "AlgoA(DataToSeq(left, right))"
   ]
  },
  {
   "cell_type": "code",
   "execution_count": null,
   "metadata": {},
   "outputs": [],
   "source": []
  }
 ],
 "metadata": {
  "kernelspec": {
   "display_name": "Python 3",
   "language": "python",
   "name": "python3"
  },
  "language_info": {
   "codemirror_mode": {
    "name": "ipython",
    "version": 3
   },
   "file_extension": ".py",
   "mimetype": "text/x-python",
   "name": "python",
   "nbconvert_exporter": "python",
   "pygments_lexer": "ipython3",
   "version": "3.6.12"
  }
 },
 "nbformat": 4,
 "nbformat_minor": 4
}
